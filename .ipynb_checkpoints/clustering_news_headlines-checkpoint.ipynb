{
 "cells": [
  {
   "cell_type": "markdown",
   "metadata": {},
   "source": [
    "# Agrupando notícias pelos seus títulos\n",
    "\n",
    "- Tratar os dados\n",
    "    - Criar três subsets do dataset de três anos diferentes\n",
    "    - Spellcheking?\n",
    "    - Remover datas, números e horários\n",
    "- Extrair features\n",
    "    - 2-gram ou 3-gram? 4-char-gram?\n",
    "    - Fazer contagem da frequência ou da presença de cada palavra?\n",
    "    - Remover palavras únicas?\n",
    "    - Usar TF-IDF\n",
    "- Treinamento\n",
    "    - Usar k-means\n",
    "    - Verificar o método de inicialização\n",
    "    - Determinar o número de de clusters: plotar cost function X # clusters\n",
    "    - Verificar o significado de cada cluster e se o número de clusters fazem sentido para os temas\n",
    "    - "
   ]
  },
  {
   "cell_type": "code",
   "execution_count": null,
   "metadata": {
    "collapsed": true
   },
   "outputs": [],
   "source": []
  }
 ],
 "metadata": {
  "kernelspec": {
   "display_name": "Python 3",
   "language": "python",
   "name": "python3"
  },
  "language_info": {
   "codemirror_mode": {
    "name": "ipython",
    "version": 3
   },
   "file_extension": ".py",
   "mimetype": "text/x-python",
   "name": "python",
   "nbconvert_exporter": "python",
   "pygments_lexer": "ipython3",
   "version": "3.5.2"
  }
 },
 "nbformat": 4,
 "nbformat_minor": 2
}
