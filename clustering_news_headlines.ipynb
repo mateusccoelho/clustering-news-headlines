{
 "cells": [
  {
   "cell_type": "markdown",
   "metadata": {},
   "source": [
    "# Agrupando notícias pelos seus títulos\n",
    "\n",
    "- Tratar os dados\n",
    "    - Criar três subsets do dataset de três anos diferentes\n",
    "    - Spellcheking?\n",
    "    - Remover datas, números e horários\n",
    "- Extrair features\n",
    "    - 2-gram ou 3-gram? 4-char-gram?\n",
    "    - Fazer contagem da frequência ou da presença de cada palavra?\n",
    "    - Remover palavras únicas?\n",
    "    - Usar TF-IDF\n",
    "- Treinamento\n",
    "    - Usar k-means\n",
    "    - Verificar o método de inicialização\n",
    "    - Determinar o número de de clusters: plotar cost function X # clusters\n",
    "    - Verificar o significado de cada cluster e se o número de clusters fazem sentido para os temas\n",
    "    - Mostrar o resultado final dos clusters por\n",
    "        - cost function, variância e silhouette coeficient\n",
    "        - word clouds e palavras ou n-grams mais frequentes."
   ]
  },
  {
   "cell_type": "code",
   "execution_count": 8,
   "metadata": {
    "collapsed": true
   },
   "outputs": [],
   "source": [
    "import numpy as np\n",
    "import pandas as pd\n",
    "from sklearn.cluster import KMeans\n",
    "import matplotlib.pyplot as plt\n",
    "import re"
   ]
  },
  {
   "cell_type": "markdown",
   "metadata": {
    "collapsed": true
   },
   "source": [
    "### Tratando os dados"
   ]
  },
  {
   "cell_type": "code",
   "execution_count": 21,
   "metadata": {},
   "outputs": [
    {
     "data": {
      "text/html": [
       "<div>\n",
       "<style>\n",
       "    .dataframe thead tr:only-child th {\n",
       "        text-align: right;\n",
       "    }\n",
       "\n",
       "    .dataframe thead th {\n",
       "        text-align: left;\n",
       "    }\n",
       "\n",
       "    .dataframe tbody tr th {\n",
       "        vertical-align: top;\n",
       "    }\n",
       "</style>\n",
       "<table border=\"1\" class=\"dataframe\">\n",
       "  <thead>\n",
       "    <tr style=\"text-align: right;\">\n",
       "      <th></th>\n",
       "      <th>publish_date</th>\n",
       "      <th>headline_text</th>\n",
       "    </tr>\n",
       "  </thead>\n",
       "  <tbody>\n",
       "    <tr>\n",
       "      <th>0</th>\n",
       "      <td>20030303</td>\n",
       "      <td>unhooked brakes to blame for taiwan train disa...</td>\n",
       "    </tr>\n",
       "    <tr>\n",
       "      <th>1</th>\n",
       "      <td>20030918</td>\n",
       "      <td>oldest prisoner in tas released citing health</td>\n",
       "    </tr>\n",
       "    <tr>\n",
       "      <th>2</th>\n",
       "      <td>20030913</td>\n",
       "      <td>nine reportedly dead in portuguese plane crash</td>\n",
       "    </tr>\n",
       "    <tr>\n",
       "      <th>3</th>\n",
       "      <td>20031031</td>\n",
       "      <td>nurses welcome medicare rebate plan</td>\n",
       "    </tr>\n",
       "    <tr>\n",
       "      <th>4</th>\n",
       "      <td>20030930</td>\n",
       "      <td>un cuts its iraq staff</td>\n",
       "    </tr>\n",
       "  </tbody>\n",
       "</table>\n",
       "</div>"
      ],
      "text/plain": [
       "   publish_date                                      headline_text\n",
       "0      20030303  unhooked brakes to blame for taiwan train disa...\n",
       "1      20030918      oldest prisoner in tas released citing health\n",
       "2      20030913     nine reportedly dead in portuguese plane crash\n",
       "3      20031031                nurses welcome medicare rebate plan\n",
       "4      20030930                             un cuts its iraq staff"
      ]
     },
     "execution_count": 21,
     "metadata": {},
     "output_type": "execute_result"
    }
   ],
   "source": [
    "df = pd.read_csv('news_headlines.csv')\n",
    "df.head()"
   ]
  },
  {
   "cell_type": "code",
   "execution_count": 41,
   "metadata": {},
   "outputs": [
    {
     "data": {
      "text/plain": [
       "78277"
      ]
     },
     "execution_count": 41,
     "metadata": {},
     "output_type": "execute_result"
    }
   ],
   "source": [
    "# quantidade de numeros\n",
    "ocurr =  []\n",
    "for hl in list(df['headline_text'].values[:]):\n",
    "    ocurr += re.findall(r\"\\d+\", hl)\n",
    "len(ocurr)"
   ]
  },
  {
   "cell_type": "code",
   "execution_count": 39,
   "metadata": {},
   "outputs": [
    {
     "name": "stdout",
     "output_type": "stream",
     "text": [
      "watergate 2:0\n",
      "watergate 2:0\n",
      "most ato workers do not down tools at 4:51 tax commissioner\n",
      "watergate 2:0\n"
     ]
    }
   ],
   "source": [
    "# \n",
    "#ocurr =  []\n",
    "for hl in list(df['headline_text'].values[:]):\n",
    "    res = re.search(r\"\\d+\\:\\d+\", hl)\n",
    "    if(not (res is None)):\n",
    "        print(hl)\n",
    "#    ocurr += res\n",
    "#len(ocurr)"
   ]
  },
  {
   "cell_type": "code",
   "execution_count": 45,
   "metadata": {},
   "outputs": [
    {
     "name": "stdout",
     "output_type": "stream",
     "text": [
      "indonesia says 200 rebels killed in aceh\n",
      "indonesia says  rebels killed in aceh\n",
      "us house of reps approves 124bn for iraq\n",
      "us house of reps approves bn for iraq\n",
      "blair govt to allow 15000 asylum families to stay\n",
      "blair govt to allow  asylum families to stay\n",
      "nt company wins 22m rail tender\n",
      "nt company wins m rail tender\n",
      "f1s iceman clings to championship dream\n",
      "fs iceman clings to championship dream\n"
     ]
    }
   ],
   "source": [
    "for hl in list(df['headline_text'].values[:100]):\n",
    "    res = re.sub(r\"\\d+\", \"\", hl)\n",
    "    if(res != hl):\n",
    "        print(hl)\n",
    "        print(res)"
   ]
  },
  {
   "cell_type": "code",
   "execution_count": null,
   "metadata": {
    "collapsed": true
   },
   "outputs": [],
   "source": []
  }
 ],
 "metadata": {
  "kernelspec": {
   "display_name": "Python 3",
   "language": "python",
   "name": "python3"
  },
  "language_info": {
   "codemirror_mode": {
    "name": "ipython",
    "version": 3
   },
   "file_extension": ".py",
   "mimetype": "text/x-python",
   "name": "python",
   "nbconvert_exporter": "python",
   "pygments_lexer": "ipython3",
   "version": "3.5.2"
  }
 },
 "nbformat": 4,
 "nbformat_minor": 2
}
